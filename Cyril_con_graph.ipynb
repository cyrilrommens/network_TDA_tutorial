{
 "cells": [
  {
   "cell_type": "code",
   "execution_count": 9,
   "id": "dad0042f",
   "metadata": {},
   "outputs": [
    {
     "name": "stdout",
     "output_type": "stream",
     "text": [
      "{(2,), (5,), (8,), (4, 6), (9, 5), (0, 2), (8, 9), (2, 7, 1), (0, 8), (1, 4, 5), (9, 4, 5), (0, 2, 7), (7, 1), (8, 9, 1), (4,), (1,), (7,), (4, 5), (9, 1), (9, 4), (0, 7), (2, 1), (2, 7), (1, 5), (0, 2, 3), (9, 1, 5), (0,), (3,), (9,), (6,), (8, 1), (0, 3), (0, 9), (1, 4), (2, 3), (0, 8, 9), (7, 5), (9, 1, 4), (7, 1, 5)}\n"
     ]
    }
   ],
   "source": [
    "import numpy as np\n",
    "import networkx as nx\n",
    "from itertools import combinations\n",
    "\n",
    "def build_clique_complex(correlation_matrix, threshold, max_clique_size):\n",
    "    n = correlation_matrix.shape[0]\n",
    "    G = nx.Graph()\n",
    "    for i in range(n):\n",
    "        for j in range(i+1, n):\n",
    "            if abs(correlation_matrix[i, j]) > threshold:\n",
    "                G.add_edge(i, j)\n",
    "\n",
    "    # Using nx.enumerate_all_cliques in an interactive manner\n",
    "    cliques = []\n",
    "    for clique in nx.enumerate_all_cliques(G):\n",
    "        if len(clique) > max_clique_size:\n",
    "            break\n",
    "        cliques.append(clique)  # Include all cliques, regardless of size\n",
    "\n",
    "    # Building the clique complex as a set\n",
    "    clique_complex = set()\n",
    "    for clique in cliques:\n",
    "        for k in range(1, len(clique) + 1):  # Start from 1 to include single elements\n",
    "            for simplex in combinations(clique, k):\n",
    "                clique_complex.add(tuple(simplex))  # Convert to tuple and add to set\n",
    "\n",
    "    return clique_complex\n",
    "\n",
    "# Example usage\n",
    "correlation_matrix = np.random.rand(10, 10)  # Replace with your correlation matrix\n",
    "threshold = 0.5  # Set your threshold\n",
    "max_clique_size = 3  # Set the maximum size of the cliques\n",
    "\n",
    "clique_complex = build_clique_complex(correlation_matrix, threshold, max_clique_size)\n",
    "print(clique_complex)\n"
   ]
  },
  {
   "cell_type": "code",
   "execution_count": 27,
   "id": "fe47d058",
   "metadata": {},
   "outputs": [],
   "source": [
    "def build_clique_complex(correlation_matrix, threshold, max_clique_size):\n",
    "    n = correlation_matrix.shape[0]\n",
    "    G = nx.Graph()\n",
    "    for i in range(n):\n",
    "        for j in range(i+1, n):\n",
    "            if abs(correlation_matrix[i, j]) > threshold:\n",
    "                G.add_edge(i, j)\n",
    "\n",
    "    # Using nx.enumerate_all_cliques in an interactive manner\n",
    "    cliques = []\n",
    "    for clique in nx.enumerate_all_cliques(G):\n",
    "        if len(clique) > max_clique_size:\n",
    "            break\n",
    "        cliques.append(clique)  # Include all cliques, regardless of size\n",
    "\n",
    "    # Building the clique complex\n",
    "    clique_complex = []\n",
    "    for clique in cliques:\n",
    "        for k in range(1, len(clique) + 1):  # Start from 1 to include single elements\n",
    "            for simplex in combinations(clique, k):\n",
    "                clique_complex.append(list(simplex))  # Convert to list\n",
    "    clique_complex=[set(lst) for lst in clique_complex]\n",
    "    return clique_complex"
   ]
  },
  {
   "cell_type": "code",
   "execution_count": 11,
   "id": "9448f5c5",
   "metadata": {},
   "outputs": [],
   "source": [
    "import pandas as pd"
   ]
  },
  {
   "cell_type": "code",
   "execution_count": 28,
   "id": "63f6073a",
   "metadata": {},
   "outputs": [],
   "source": [
    "test=pd.read_csv('101107_functional_connectivity.txt',header=None)"
   ]
  },
  {
   "cell_type": "code",
   "execution_count": 29,
   "id": "87e5cd03",
   "metadata": {},
   "outputs": [
    {
     "data": {
      "text/plain": [
       "array([[1.        , 0.93792378, 0.77036524, ..., 0.75682517, 0.50836991,\n",
       "        0.51344128],\n",
       "       [0.93792378, 1.        , 0.65504925, ..., 0.77167757, 0.54031502,\n",
       "        0.50148948],\n",
       "       [0.77036524, 0.65504925, 1.        , ..., 0.55830049, 0.50878591,\n",
       "        0.46696959],\n",
       "       ...,\n",
       "       [0.75682517, 0.77167757, 0.55830049, ..., 1.        , 0.62969426,\n",
       "        0.48711349],\n",
       "       [0.50836991, 0.54031502, 0.50878591, ..., 0.62969426, 1.        ,\n",
       "        0.52532611],\n",
       "       [0.51344128, 0.50148948, 0.46696959, ..., 0.48711349, 0.52532611,\n",
       "        1.        ]])"
      ]
     },
     "execution_count": 29,
     "metadata": {},
     "output_type": "execute_result"
    }
   ],
   "source": [
    "test.to_numpy()"
   ]
  },
  {
   "cell_type": "code",
   "execution_count": 32,
   "id": "8cd4a05c",
   "metadata": {},
   "outputs": [
    {
     "name": "stdout",
     "output_type": "stream",
     "text": [
      "[{0}, {1}, {18}, {33}, {56}, {57}, {81}, {17}, {19}, {6}, {7}, {10}, {12}, {16}, {62}, {79}, {32}, {42}, {44}, {45}, {46}, {47}, {48}, {43}, {54}, {49}, {50}, {51}, {55}, {59}, {60}, {61}, {67}, {63}, {66}, {80}, {84}, {85}, {98}, {99}, {0}, {1}, {0, 1}, {0}, {18}, {0, 18}, {0}, {33}, {0, 33}, {0}, {56}, {0, 56}, {0}, {57}, {0, 57}, {0}, {81}, {0, 81}, {1}, {56}, {56, 1}, {1}, {57}, {1, 57}, {1}, {17}, {1, 17}, {1}, {19}, {1, 19}, {18}, {33}, {33, 18}, {33}, {81}, {81, 33}, {33}, {32}, {32, 33}, {56}, {57}, {56, 57}, {56}, {17}, {56, 17}, {56}, {16}, {56, 16}, {57}, {17}, {57, 17}, {57}, {16}, {16, 57}, {81}, {17}, {81, 17}, {81}, {79}, {81, 79}, {81}, {80}, {80, 81}, {17}, {16}, {16, 17}, {17}, {62}, {17, 62}, {17}, {79}, {17, 79}, {6}, {7}, {6, 7}, {10}, {12}, {10, 12}, {42}, {44}, {42, 44}, {42}, {45}, {42, 45}, {42}, {46}, {42, 46}, {42}, {47}, {42, 47}, {42}, {48}, {48, 42}, {44}, {45}, {44, 45}, {44}, {46}, {44, 46}, {44}, {47}, {44, 47}, {44}, {48}, {48, 44}, {45}, {46}, {45, 46}, {45}, {47}, {45, 47}, {45}, {48}, {48, 45}, {45}, {43}, {43, 45}, {46}, {47}, {46, 47}, {46}, {48}, {48, 46}, {47}, {48}, {48, 47}, {47}, {54}, {54, 47}, {48}, {43}, {48, 43}, {49}, {50}, {49, 50}, {49}, {51}, {49, 51}, {51}, {55}, {51, 55}, {59}, {60}, {59, 60}, {59}, {61}, {59, 61}, {59}, {67}, {67, 59}, {60}, {61}, {60, 61}, {61}, {63}, {61, 63}, {67}, {66}, {66, 67}, {84}, {85}, {84, 85}, {98}, {99}, {98, 99}, {0}, {1}, {56}, {0, 1}, {0, 56}, {56, 1}, {0, 1, 56}, {0}, {1}, {57}, {0, 1}, {0, 57}, {1, 57}, {0, 1, 57}, {0}, {18}, {33}, {0, 18}, {0, 33}, {33, 18}, {0, 33, 18}, {0}, {33}, {81}, {0, 33}, {0, 81}, {81, 33}, {0, 33, 81}, {0}, {56}, {57}, {0, 56}, {0, 57}, {56, 57}, {0, 57, 56}, {1}, {56}, {57}, {56, 1}, {1, 57}, {56, 57}, {56, 1, 57}, {1}, {56}, {17}, {56, 1}, {1, 17}, {56, 17}, {56, 1, 17}, {1}, {57}, {17}, {1, 57}, {1, 17}, {57, 17}, {1, 17, 57}, {56}, {57}, {17}, {56, 57}, {56, 17}, {57, 17}, {56, 57, 17}, {56}, {57}, {16}, {56, 57}, {56, 16}, {16, 57}, {56, 57, 16}, {56}, {17}, {16}, {56, 17}, {56, 16}, {16, 17}, {56, 17, 16}, {57}, {17}, {16}, {57, 17}, {16, 57}, {16, 17}, {16, 57, 17}, {81}, {17}, {79}, {81, 17}, {81, 79}, {17, 79}, {81, 17, 79}, {42}, {44}, {45}, {42, 44}, {42, 45}, {44, 45}, {42, 44, 45}, {42}, {44}, {46}, {42, 44}, {42, 46}, {44, 46}, {42, 44, 46}, {42}, {44}, {47}, {42, 44}, {42, 47}, {44, 47}, {42, 44, 47}, {42}, {44}, {48}, {42, 44}, {48, 42}, {48, 44}, {48, 42, 44}, {42}, {45}, {46}, {42, 45}, {42, 46}, {45, 46}, {42, 45, 46}, {42}, {45}, {47}, {42, 45}, {42, 47}, {45, 47}, {42, 45, 47}, {42}, {45}, {48}, {42, 45}, {48, 42}, {48, 45}, {48, 42, 45}, {42}, {46}, {47}, {42, 46}, {42, 47}, {46, 47}, {42, 46, 47}, {42}, {46}, {48}, {42, 46}, {48, 42}, {48, 46}, {48, 42, 46}, {42}, {47}, {48}, {42, 47}, {48, 42}, {48, 47}, {48, 42, 47}, {44}, {45}, {46}, {44, 45}, {44, 46}, {45, 46}, {44, 45, 46}, {44}, {45}, {47}, {44, 45}, {44, 47}, {45, 47}, {44, 45, 47}, {44}, {45}, {48}, {44, 45}, {48, 44}, {48, 45}, {48, 44, 45}, {44}, {46}, {47}, {44, 46}, {44, 47}, {46, 47}, {44, 46, 47}, {44}, {46}, {48}, {44, 46}, {48, 44}, {48, 46}, {48, 44, 46}, {44}, {47}, {48}, {44, 47}, {48, 44}, {48, 47}, {48, 44, 47}, {45}, {46}, {47}, {45, 46}, {45, 47}, {46, 47}, {45, 46, 47}, {45}, {46}, {48}, {45, 46}, {48, 45}, {48, 46}, {48, 45, 46}, {45}, {47}, {48}, {45, 47}, {48, 45}, {48, 47}, {48, 45, 47}, {45}, {48}, {43}, {48, 45}, {43, 45}, {48, 43}, {48, 43, 45}, {46}, {47}, {48}, {46, 47}, {48, 46}, {48, 47}, {48, 46, 47}, {59}, {60}, {61}, {59, 60}, {59, 61}, {60, 61}, {59, 60, 61}]\n"
     ]
    }
   ],
   "source": [
    "correlation_matrix = test.to_numpy()  # Replace with your correlation matrix\n",
    "threshold = 0.9  # Set your threshold\n",
    "max_clique_size = 3  # Set the maximum size of the cliques\n",
    "\n",
    "clique_complex = build_clique_complex(correlation_matrix, threshold, max_clique_size)\n",
    "print(clique_complex)\n"
   ]
  },
  {
   "cell_type": "code",
   "execution_count": 33,
   "id": "4a2a9d7e",
   "metadata": {},
   "outputs": [
    {
     "data": {
      "text/plain": [
       "450"
      ]
     },
     "execution_count": 33,
     "metadata": {},
     "output_type": "execute_result"
    }
   ],
   "source": [
    "len(clique_complex)"
   ]
  },
  {
   "cell_type": "code",
   "execution_count": 58,
   "id": "b4d1f289",
   "metadata": {},
   "outputs": [
    {
     "ename": "TypeError",
     "evalue": "'int' object is not iterable",
     "output_type": "error",
     "traceback": [
      "\u001b[0;31m---------------------------------------------------------------------------\u001b[0m",
      "\u001b[0;31mTypeError\u001b[0m                                 Traceback (most recent call last)",
      "Cell \u001b[0;32mIn[58], line 14\u001b[0m\n\u001b[1;32m     12\u001b[0m list_of_sets[i]\n\u001b[1;32m     13\u001b[0m \u001b[38;5;28;01mfor\u001b[39;00m j \u001b[38;5;129;01min\u001b[39;00m \u001b[38;5;28mrange\u001b[39m(\u001b[38;5;241m0\u001b[39m,\u001b[38;5;28mlen\u001b[39m(list_of_sets)):\n\u001b[0;32m---> 14\u001b[0m     \u001b[38;5;28;01mif\u001b[39;00m \u001b[43mlist_of_sets\u001b[49m\u001b[43m[\u001b[49m\u001b[43mi\u001b[49m\u001b[43m]\u001b[49m\u001b[38;5;241;43m.\u001b[39;49m\u001b[43mintersection\u001b[49m\u001b[43m(\u001b[49m\u001b[38;5;241;43m0\u001b[39;49m\u001b[43m,\u001b[49m\u001b[43mlist_of_sets\u001b[49m\u001b[43m[\u001b[49m\u001b[43mj\u001b[49m\u001b[43m]\u001b[49m\u001b[43m)\u001b[49m \u001b[38;5;241m!=\u001b[39m {}:\n\u001b[1;32m     15\u001b[0m         matrix[i, j] \u001b[38;5;241m=\u001b[39m \u001b[38;5;241m1\u001b[39m\n\u001b[1;32m     16\u001b[0m         \u001b[38;5;66;03m#matrix[j, i] = 1  # Ensure the matrix is symmetric\u001b[39;00m\n",
      "\u001b[0;31mTypeError\u001b[0m: 'int' object is not iterable"
     ]
    }
   ],
   "source": [
    "import numpy as np\n",
    "\n",
    "# Example list of sets\n",
    "list_of_sets = example#clique_complex#[{0}, {1}, {0, 1}, {2}, {0, 2}, {3}, {0, 3}]\n",
    "\n",
    "# Initialize the matrix\n",
    "size = len(list_of_sets)\n",
    "matrix = np.zeros((size, size))\n",
    "\n",
    "# Fill the matrix\n",
    "for i in range(0,len(list_of_sets)):\n",
    "    list_of_sets[i]\n",
    "    #for j in range(0,len(list_of_sets)):\n",
    "     #   if list_of_sets[i].intersection(0,list_of_sets[j]) != {}:\n",
    "      #      matrix[i, j] = 1\n",
    "            #matrix[j, i] = 1  # Ensure the matrix is symmetric\n",
    "\n",
    "matrix\n"
   ]
  },
  {
   "cell_type": "code",
   "execution_count": 41,
   "id": "adcdaff4",
   "metadata": {},
   "outputs": [],
   "source": [
    "example=[{1},{2},{3},{4},{1,2},{2,3},{3,4},{2,4},{2,3,4}]"
   ]
  },
  {
   "cell_type": "code",
   "execution_count": 43,
   "id": "ce76c5aa",
   "metadata": {},
   "outputs": [],
   "source": [
    "knill=[{1},{2},{3},{1,2},{2,3}]"
   ]
  },
  {
   "cell_type": "code",
   "execution_count": 46,
   "id": "0031be27",
   "metadata": {},
   "outputs": [
    {
     "data": {
      "text/plain": [
       "[{1}, {2}, {3}, {4}, {1, 2}, {2, 3}, {3, 4}, {2, 4}, {2, 3, 4}]"
      ]
     },
     "execution_count": 46,
     "metadata": {},
     "output_type": "execute_result"
    }
   ],
   "source": [
    "list_of_sets"
   ]
  },
  {
   "cell_type": "code",
   "execution_count": 53,
   "id": "ca601058",
   "metadata": {},
   "outputs": [
    {
     "data": {
      "text/plain": [
       "{1}"
      ]
     },
     "execution_count": 53,
     "metadata": {},
     "output_type": "execute_result"
    }
   ],
   "source": [
    "{1,2}.intersection({1})"
   ]
  }
 ],
 "metadata": {
  "kernelspec": {
   "display_name": "Python 3 (ipykernel)",
   "language": "python",
   "name": "python3"
  },
  "language_info": {
   "codemirror_mode": {
    "name": "ipython",
    "version": 3
   },
   "file_extension": ".py",
   "mimetype": "text/x-python",
   "name": "python",
   "nbconvert_exporter": "python",
   "pygments_lexer": "ipython3",
   "version": "3.8.18"
  }
 },
 "nbformat": 4,
 "nbformat_minor": 5
}
