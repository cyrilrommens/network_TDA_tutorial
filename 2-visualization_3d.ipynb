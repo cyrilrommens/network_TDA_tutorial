{
 "cells": [
  {
   "cell_type": "markdown",
   "metadata": {},
   "source": [
    "# Part 2. Notebook for Network and Topological Analysis in Neuroscience\n",
    "\n",
    "Authors: Eduarda Centeno & Fernando Santos\n",
    "    \n",
    "This second part of the project will focus on the 3D visualisations we have developed.\n"
   ]
  },
  {
   "cell_type": "markdown",
   "metadata": {},
   "source": [
    "## Table of contents\n",
    "1. [Imports](#imports)\n",
    "2. [Short recap - importing data & creating graph object](#short-recap)\n",
    "3. [Creating 3D visualisations with Plotly](#3d-visualisation)\n",
    "4. [Acknowledgements](#acknowledgements)"
   ]
  },
  {
   "cell_type": "markdown",
   "metadata": {},
   "source": [
    "<a id='imports'></a>\n",
    "###  **1.** Imports"
   ]
  },
  {
   "cell_type": "code",
   "execution_count": null,
   "metadata": {},
   "outputs": [],
   "source": [
    "# Basic data manipulation and visualisation libraries\n",
    "import numpy as np\n",
    "import matplotlib.pyplot as plt\n",
    "\n",
    "# Network Libraries\n",
    "import networkx as nx\n",
    "\n",
    "# Magic command to load watermark\n",
    "%load_ext watermark"
   ]
  },
  {
   "cell_type": "code",
   "execution_count": null,
   "metadata": {},
   "outputs": [],
   "source": [
    "# Print watermark\n",
    "%watermark --author \"Eduarda & Fernando\" --date --time --python --machine --iversion --watermark --packages jupyterlab,notebook"
   ]
  },
  {
   "cell_type": "markdown",
   "metadata": {},
   "source": [
    "<a id='short-recap'></a>\n",
    "### **2.** Short recap - importing data & creating graph object"
   ]
  },
  {
   "cell_type": "code",
   "execution_count": null,
   "metadata": {},
   "outputs": [],
   "source": [
    "# Import matrix\n",
    "matrix = np.genfromtxt('./1000_Functional_Connectomes/Connectivity matrices/AveragedMatrix.txt')\n",
    "\n",
    "# Absolutise for further user\n",
    "matrix = abs(matrix)\n",
    "\n",
    "# Creating Graph\n",
    "G = nx.from_numpy_matrix(matrix)\n",
    "\n",
    "# Removing self-loops\n",
    "G.remove_edges_from(list(nx.selfloop_edges(G)))\n",
    "\n",
    "# This function accepts a argument 'distance' that, in correlation-based networks, must be seen as the inverse ... \n",
    "# ... of the weight value. Thus, a high correlation value (e.g. 0.8) means a shorter distance (i.e 0.2).\n",
    "G_distance_dict = {(e1, e2): 1 / abs(weight) for e1, e2, weight in G.edges(data='weight')}\n",
    "\n",
    "# Then add them as attributes to the graph\n",
    "nx.set_edge_attributes(G, G_distance_dict, 'distance')\n",
    "\n",
    "# Create graphs from comparison\n",
    "matrix2 = matrix.copy()\n",
    "matrix3 = matrix.copy()"
   ]
  },
  {
   "cell_type": "markdown",
   "metadata": {},
   "source": [
    "#####  **Important!!**\n",
    "Have a look at the following files to check if they match your matrix's regions (they are called internally in the HCP_Data_Vis.py). If not, you will have to create your own files:\n",
    "\n",
    "    a. *_region_names_abbrev.txt\n",
    "    b. HCP_positions.txt\n",
    "    \n",
    "If you are working with matrices that had regions removed (low signal, tumor mask, etc.), you will have to adapt the files above to take that into account. We aim to soon implement a flexible way of removing regions for this notebook, but it's not done yet. Subnetwork 3D plots will also be available soon."
   ]
  },
  {
   "cell_type": "markdown",
   "metadata": {},
   "source": [
    "<a id='3d-visualisation'></a>\n",
    "### **3.** Creating 3D visualisations with Plotly\n",
    "First, we need to import the necessary backup script.\n",
    "Then, it is possible to use a list of values for most of the nodal metrics, e.g., centralities, etc."
   ]
  },
  {
   "cell_type": "code",
   "execution_count": null,
   "metadata": {},
   "outputs": [],
   "source": [
    "%run \"./Background Scripts/HCP_Data_Vis.py\""
   ]
  },
  {
   "cell_type": "markdown",
   "metadata": {},
   "source": [
    "#### Creating graphs based on density"
   ]
  },
  {
   "cell_type": "code",
   "execution_count": null,
   "metadata": {},
   "outputs": [],
   "source": [
    "## Create sparser graphs for visualisation - just try them and compare!\n",
    "# Create sparser graphs based on threshold value\n",
    "matrix2[matrix2<=0.50] = 0\n",
    "matrix3[matrix3<=0.75] = 0\n",
    "\n",
    "st50G = nx.from_numpy_matrix(matrix2)\n",
    "st25G = nx.from_numpy_matrix(matrix3)\n",
    "\n",
    "st50G.remove_edges_from(list(nx.selfloop_edges(st50G)))\n",
    "st25G.remove_edges_from(list(nx.selfloop_edges(st25G)))\n",
    "\n",
    "# Create sparser graphs based on density - 1%, 2.5%, 5% and 10%, respectively \n",
    "sd010G = G_den(matrix, 0.010, verbose=False)\n",
    "sd025G = G_den(matrix, 0.025, verbose=False)\n",
    "sd050G = G_den(matrix, 0.050, verbose=False)\n",
    "sd100G = G_den(matrix, 0.100, verbose=False)"
   ]
  },
  {
   "cell_type": "markdown",
   "metadata": {},
   "source": [
    "#### Let's start with the visualisation of pairwise interactions"
   ]
  },
  {
   "cell_type": "code",
   "execution_count": null,
   "metadata": {},
   "outputs": [],
   "source": [
    "# Create list of values for a property\n",
    "values = listnet(nx.closeness_centrality, G, distance='distance')\n",
    "\n",
    "## Visualisation of nodes according to proprieties\n",
    "# This function will plot the 3D brain with both node size and color according to node_prop\n",
    "Plot_Brain_Prop(node_prop=values, scale=5) # the second parameter is necessary to scale the node size"
   ]
  },
  {
   "cell_type": "code",
   "execution_count": null,
   "metadata": {},
   "outputs": [],
   "source": [
    "## It is also possible to give a second property, which will change the color of the nodes\n",
    "\n",
    "# Create a list of a second property\n",
    "values_2 = listnet(nx.eigenvector_centrality, G, weight='weight')\n",
    "\n",
    "# Plot 3D brain with node size accoring to values and node colors according to values_2\n",
    "Plot_Brain_Prop(node_prop=values, scale=5, node_colors=values_2)"
   ]
  },
  {
   "cell_type": "code",
   "execution_count": null,
   "metadata": {},
   "outputs": [],
   "source": [
    "# We have created a degree-specific function for 3D network plotting. \n",
    "# Node size will always represent the degree/strength, node color can be changed.\n",
    "\n",
    "# Plotting with both size and colors according to degree (or strength if weight is True)\n",
    "degree_3D(st50G, scale=0.1, weight=True)"
   ]
  },
  {
   "cell_type": "code",
   "execution_count": null,
   "metadata": {},
   "outputs": [],
   "source": [
    "# Plotting with size according to degree/strength and colors according another property\n",
    "degree_3D(st25G, scale=0.5, weight=True, node_colors=values, color_prop_name='Closeness Centrality')"
   ]
  },
  {
   "cell_type": "code",
   "execution_count": null,
   "metadata": {},
   "outputs": [],
   "source": [
    "# Visualisation of brain modularity\n",
    "Plot_Brain_Mod(G, scale=0.5)"
   ]
  },
  {
   "cell_type": "code",
   "execution_count": null,
   "metadata": {},
   "outputs": [],
   "source": [
    "# Visualisation of brain network Participation Rank\n",
    "dens_value = 0.01 # for plot title\n",
    "clique_size = 2 # this is a line\n",
    "alpha = 0.1\n",
    "plotclique3dk(sd010G, dens_value, clique_size, alpha) # we will use the sd010G to allow a better/clearer visualisation"
   ]
  },
  {
   "cell_type": "markdown",
   "metadata": {},
   "source": [
    "#### Let's now have a look at high-dimensional interactions (TDA)"
   ]
  },
  {
   "cell_type": "code",
   "execution_count": null,
   "metadata": {},
   "outputs": [],
   "source": [
    "# Visualisation of triangles (or 3-cliques)\n",
    "dens_value = 0.01 # for plot title\n",
    "clique_size = 3 # this is a triangle\n",
    "alpha = 0.1\n",
    "plotclique3dk(sd010G, dens_value, clique_size, alpha)"
   ]
  },
  {
   "cell_type": "code",
   "execution_count": null,
   "metadata": {},
   "outputs": [],
   "source": [
    "# Visualisation of tetrahedrons (or 4-cliques)\n",
    "dens_value = 0.025 # for plot title\n",
    "clique_size = 4 # this is a terahedron\n",
    "alpha = 0.05\n",
    "plotclique3dk(sd025G,dens_value, clique_size, alpha)"
   ]
  },
  {
   "cell_type": "code",
   "execution_count": null,
   "metadata": {},
   "outputs": [],
   "source": [
    "# Visualisation of Nodal Curvature\n",
    "dens_value = 0.025 # for plot title\n",
    "plotcurv(sd025G, dens_value)"
   ]
  },
  {
   "cell_type": "markdown",
   "metadata": {},
   "source": [
    "<a id='acknowledgements'></a>\n",
    "\n",
    "## **4.** Acknowledgements\n",
    "\n",
    "The 1000_Functional_Connectomes dataset was downloaded from the [The UCLA multimodal connectivity database](http://umcd.humanconnectomeproject.org/)."
   ]
  }
 ],
 "metadata": {
  "kernelspec": {
   "display_name": "Python 3",
   "language": "python",
   "name": "python3"
  },
  "language_info": {
   "codemirror_mode": {
    "name": "ipython",
    "version": 3
   },
   "file_extension": ".py",
   "mimetype": "text/x-python",
   "name": "python",
   "nbconvert_exporter": "python",
   "pygments_lexer": "ipython3",
   "version": "3.7.12"
  }
 },
 "nbformat": 4,
 "nbformat_minor": 4
}
