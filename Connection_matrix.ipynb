{
 "cells": [
  {
   "cell_type": "markdown",
   "id": "fdf7c1b4",
   "metadata": {},
   "source": [
    "# Connection matrix of all simplexes in the simplicial complex\n",
    "*Cyril Rommens, s12495719, masterproject MSc Physics and Astronomy: Computational Physics of Complex Systems*\n",
    "\n",
    "**Introduction**\n",
    "In this notebook, we will generate the connection matrix as required for Knill's free energy calculation. We start with any given connection matrix for solely pairwise connections. From this we draw a complete connectivity graph and count all complete subgraphs. Each complete subgraph is converted into a simplex. Next, all simplices in the graph are counted to generate a list of simplices, the 'clique_complex', representing all simplices in the simplicial complex. Lastly, we generate the complete connection matrix, i.e. with connections between all simplices included and not just the connections between vertices. We do this by checking which simplices have overlapping vertices, so:\n",
    "\n",
    "A finite abstract simplicial complex G defines a matrix L, where $L(x,y) = 1$ if two simplicies $x, y$ in G intersect and where $L(x,y) = 0$ if they don't.\n",
    "\n",
    "*Knill proves in his 'energy of simplicial complex' that the sum over all entries of the inverse of this matrix is the total energy (equal to the Euler Characteristic).*"
   ]
  },
  {
   "cell_type": "code",
   "execution_count": 2,
   "id": "b621b664",
   "metadata": {},
   "outputs": [],
   "source": [
    "# Import libraries\n",
    "import networkx as nx\n",
    "import numpy as np\n",
    "from itertools import combinations\n",
    "import matplotlib.pyplot as plt\n",
    "import pandas as pd\n",
    "import glob"
   ]
  },
  {
   "cell_type": "code",
   "execution_count": 3,
   "id": "08ee7129",
   "metadata": {},
   "outputs": [],
   "source": [
    "# Define function to draw a visual graph from the connection matrix\n",
    "def plot_graph(correlation_matrix, threshold):\n",
    "    n = correlation_matrix.shape[0]\n",
    "    G = nx.Graph()\n",
    "    \n",
    "    for i in range(n):\n",
    "        for j in range(i + 1, n):\n",
    "            if abs(correlation_matrix[i, j]) > threshold:\n",
    "                G.add_edge(i, j)\n",
    "\n",
    "    pos = nx.spring_layout(G)  # You can use a different layout if needed\n",
    "    nx.draw(G, pos, with_labels=True, font_weight='bold', node_size=700)\n",
    "    plt.show()\n",
    "\n",
    "# Define a function to obtain a list the simplexes present in the simplicial complex, by counting the complete subgraphs in the connection matrix\n",
    "def build_clique_complex(correlation_matrix, threshold, max_clique_size):\n",
    "    n = correlation_matrix.shape[0]\n",
    "    G = nx.Graph()\n",
    "    for i in range(n):\n",
    "        for j in range(i + 1, n):\n",
    "            if abs(correlation_matrix[i, j]) > threshold:\n",
    "                G.add_edge(i, j)\n",
    "\n",
    "    # Using nx.enumerate_all_cliques in an interactive manner\n",
    "    seen_cliques = set()\n",
    "    for clique in nx.enumerate_all_cliques(G):\n",
    "        if len(clique) > max_clique_size:\n",
    "            break\n",
    "        unique_clique = tuple(sorted(clique))\n",
    "        seen_cliques.add(unique_clique)\n",
    "\n",
    "    # Building the clique complex\n",
    "    clique_complex = [set(clique) for clique in seen_cliques]\n",
    "\n",
    "    # Sort the list of sets based on the length of cliques and sorted vertices within each clique\n",
    "    clique_complex = sorted(clique_complex, key=lambda x: (len(x), sorted(x)))\n",
    "\n",
    "    return clique_complex\n",
    "\n",
    "# Define a function to generate a connection matrix of the simplexes from the list of cliques\n",
    "def generate_overlap_matrix(sets_list):\n",
    "    # Get the set of all unique values in the list of sets\n",
    "    all_values = sorted(list({value for s in sets_list for value in s}))\n",
    "    \n",
    "    # Create a mapping from values to indices\n",
    "    value_to_index = {value: index for index, value in enumerate(all_values)}\n",
    "    \n",
    "    # Initialize the overlap matrix with zeros\n",
    "    n = len(sets_list)\n",
    "    overlap_matrix = np.zeros((n, n), dtype=int)\n",
    "    \n",
    "    # Set the entries to 1 where values overlap\n",
    "    for i, s1 in enumerate(sets_list):\n",
    "        values_s1 = sorted(list(s1))\n",
    "        indices_s1 = [value_to_index[value] for value in values_s1]\n",
    "        \n",
    "        for j, s2 in enumerate(sets_list):\n",
    "            values_s2 = sorted(list(s2))\n",
    "            indices_s2 = [value_to_index[value] for value in values_s2]\n",
    "            \n",
    "            if any(value in s2 for value in s1):  # Check for overlap\n",
    "                overlap_matrix[i, j] = 1\n",
    "    \n",
    "    return overlap_matrix\n"
   ]
  },
  {
   "cell_type": "code",
   "execution_count": 24,
   "id": "c81996b9",
   "metadata": {},
   "outputs": [
    {
     "name": "stdout",
     "output_type": "stream",
     "text": [
      "[{0}, {1}, {2}, {3}, {0, 2}, {0, 3}, {1, 3}, {2, 3}, {0, 2, 3}]\n"
     ]
    },
    {
     "data": {
      "image/png": "[encoded data removed]",
      "text/plain": [
       "<Figure size 640x480 with 1 Axes>"
      ]
     },
     "metadata": {},
     "output_type": "display_data"
    }
   ],
   "source": [
    "# Example usage\n",
    "correlation_matrix = np.random.rand(4, 4)\n",
    "threshold = 0.5\n",
    "max_clique_size = 3\n",
    "\n",
    "clique_complex = build_clique_complex(correlation_matrix, threshold, max_clique_size)\n",
    "print(clique_complex)\n",
    "\n",
    "plot_graph(correlation_matrix, threshold)"
   ]
  },
  {
   "cell_type": "code",
   "execution_count": 7,
   "id": "41542f66",
   "metadata": {},
   "outputs": [],
   "source": [
    "# Importing data as list of matrices\n",
    "matrices = [np.genfromtxt(file) for file in glob.glob('./1000_Functional_Connectomes/Connectivity matrices/*_matrix_file.txt')]"
   ]
  },
  {
   "cell_type": "code",
   "execution_count": 8,
   "id": "8cd4a05c",
   "metadata": {},
   "outputs": [
    {
     "name": "stdout",
     "output_type": "stream",
     "text": [
      "[{25}, {37}, {51}, {56}, {94}, {25, 51}, {56, 25}, {37, 94}]\n"
     ]
    }
   ],
   "source": [
    "# Test on the real data\n",
    "correlation_matrix = matrices[3] # Replace with your correlation matrix\n",
    "threshold = 0.9  # Set your threshold\n",
    "max_clique_size = 3  # Set the maximum size of the cliques\n",
    "\n",
    "clique_complex = build_clique_complex(correlation_matrix, threshold, max_clique_size)\n",
    "clique_complex = sorted(clique_complex)\n",
    "print(clique_complex)"
   ]
  },
  {
   "cell_type": "code",
   "execution_count": 25,
   "id": "55bb2e4e",
   "metadata": {},
   "outputs": [
    {
     "name": "stdout",
     "output_type": "stream",
     "text": [
      "[[1 0 0 0 1 1 0 0 1]\n",
      " [0 1 0 0 0 0 1 0 0]\n",
      " [0 0 1 0 1 0 0 1 1]\n",
      " [0 0 0 1 0 1 1 1 1]\n",
      " [1 0 1 0 1 1 0 1 1]\n",
      " [1 0 0 1 1 1 1 1 1]\n",
      " [0 1 0 1 0 1 1 1 1]\n",
      " [0 0 1 1 1 1 1 1 1]\n",
      " [1 0 1 1 1 1 1 1 1]]\n"
     ]
    }
   ],
   "source": [
    "# Example usage\n",
    "overlap_matrix = generate_overlap_matrix(clique_complex)\n",
    "print(overlap_matrix)"
   ]
  }
 ],
 "metadata": {
  "kernelspec": {
   "display_name": "Python 3 (ipykernel)",
   "language": "python",
   "name": "python3"
  },
  "language_info": {
   "codemirror_mode": {
    "name": "ipython",
    "version": 3
   },
   "file_extension": ".py",
   "mimetype": "text/x-python",
   "name": "python",
   "nbconvert_exporter": "python",
   "pygments_lexer": "ipython3",
   "version": "3.7.12"
  }
 },
 "nbformat": 4,
 "nbformat_minor": 5
}
