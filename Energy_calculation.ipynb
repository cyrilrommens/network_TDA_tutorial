{
 "cells": [
  {
   "cell_type": "markdown",
   "metadata": {},
   "source": [
    "# Computational scheme for the free energy of a simplicial complex\n",
    "*Cyril Rommens, s12495719, masterproject MSc Physics and Astronomy: Computational Physics of Complex Systems*\n",
    "\n",
    "**Introduction**\n",
    "In this notebook, we compute the Free energy of a simplicial complex from a given dataset. First we analyse the dataset to define a connection probability. After this, we can choose a desired simplicial complex G_i from the set with $0<i<N$ complexes and compute the internal energy U and the entropy S, according to Knill's work. From this we can then compute the Helmholtz free energy F."
   ]
  },
  {
   "cell_type": "markdown",
   "metadata": {},
   "source": [
    "**Import libraries**"
   ]
  },
  {
   "cell_type": "code",
   "execution_count": 5,
   "metadata": {},
   "outputs": [],
   "source": [
    "# Basic data manipulation libraries\n",
    "import numpy as np\n",
    "import matplotlib.pyplot as plt\n",
    "import pandas as pd\n",
    "import timeit\n",
    "import os"
   ]
  },
  {
   "cell_type": "markdown",
   "metadata": {},
   "source": [
    "**Import the dataset**"
   ]
  },
  {
   "cell_type": "code",
   "execution_count": 89,
   "metadata": {},
   "outputs": [],
   "source": [
    "# For now just give a pre-set dataset\n",
    "import openpyxl\n",
    "import numpy as np\n",
    "\n",
    "# Specify the directory and file name\n",
    "excel_file_path = r'C:\\Users\\cyril\\OneDrive\\Documenten\\MSc Physics and Astronomy\\Thesis\\Planning\\Week 9 - 18 jan\\Dataset_example\\SimplicialComplex_G.xlsx'\n",
    "\n",
    "# Load the Excel file into a Pandas DataFrame\n",
    "G_list = []\n",
    "sheet_list = ['G_A', 'G_B', 'G_C', 'G_D', 'G_E', 'G_F']\n",
    "for sheet in sheet_list:\n",
    "    df = pd.read_excel(excel_file_path, sheet_name=sheet, engine='openpyxl', header=None)\n",
    "    G_i = df.values.astype(np.float64)\n",
    "    G_i = np.nan_to_num(G_i, nan=0)\n",
    "    G_list.append(G_i)\n",
    "\n",
    "# Now, G is a 2D NumPy array containing the data from the first sheet of the Excel file\n",
    "G = np.array(G_list)"
   ]
  },
  {
   "cell_type": "markdown",
   "metadata": {},
   "source": [
    "**Binarization**\n",
    "\n",
    "Knill reports the connection matrix as binary, so L_xy = 1 if the simplex x intersects with the simplex y and L_xy = 0 if it doesn’t. So there is no degree in connectivity. Binarize the matrices in further calculations for now, to first work out the method according to Knill, without connectivity degree."
   ]
  },
  {
   "cell_type": "code",
   "execution_count": 90,
   "metadata": {},
   "outputs": [],
   "source": [
    "threshold = 0.0\n",
    "G_binary = (G > threshold).astype(int)"
   ]
  },
  {
   "cell_type": "markdown",
   "metadata": {},
   "source": [
    "**Compute the connection probability matrix $L_p$**"
   ]
  },
  {
   "cell_type": "code",
   "execution_count": 91,
   "metadata": {},
   "outputs": [],
   "source": [
    "L_p = np.mean(G_binary, axis=0)"
   ]
  },
  {
   "cell_type": "markdown",
   "metadata": {},
   "source": [
    "**Compute the inverse connection matrix ${L_i}^{-1}$**\n",
    "\n",
    "To do this we first have to get rid of the zero rows and column, since the matrix is not invertible if the determinant of the desired matrix is zero. When we did this we can generate the inverted matrix. So for example for the first matrix L_A this would go like:"
   ]
  },
  {
   "cell_type": "code",
   "execution_count": 105,
   "metadata": {},
   "outputs": [],
   "source": [
    "def inverse_matrix_generator(matrix):\n",
    "\n",
    "    # Find non-zero rows and columns\n",
    "    non_zero_rows = ~np.all(matrix == 0, axis=1)\n",
    "    non_zero_columns = ~np.all(matrix == 0, axis=0)\n",
    "\n",
    "    # Store the indices of removed rows and columns\n",
    "    removed_rows = np.where(~non_zero_rows)[0].tolist()\n",
    "    removed_columns = np.where(~non_zero_columns)[0].tolist()\n",
    "\n",
    "    # Extract the non-zero rows and columns\n",
    "    result_matrix = matrix[non_zero_rows][:, non_zero_columns]\n",
    "\n",
    "    # Generate inverse matrix\n",
    "    if np.linalg.det(result_matrix) != 0:\n",
    "        inverse_matrix_unrounded = np.linalg.inv(result_matrix)\n",
    "        inverse_matrix = np.round(inverse_matrix_unrounded, decimals=2)\n",
    "    else:\n",
    "        inverse_matrix = 0\n",
    "\n",
    "    return result_matrix, removed_rows, removed_columns, inverse_matrix"
   ]
  },
  {
   "cell_type": "code",
   "execution_count": 106,
   "metadata": {},
   "outputs": [],
   "source": [
    "# Customize print settings to print the entire matrix\n",
    "#np.set_printoptions(threshold=np.inf)\n",
    "# Reset NumPy print options to the default settings\n",
    "#np.set_printoptions(threshold=1000)"
   ]
  },
  {
   "cell_type": "code",
   "execution_count": 107,
   "metadata": {},
   "outputs": [
    {
     "name": "stdout",
     "output_type": "stream",
     "text": [
      "Original Matrix:\n",
      "[[1. 1. 0. 0. 1. 1. 0. 1. 0. 0. 0. 1. 0. 0.]\n",
      " [1. 1. 1. 1. 1. 1. 2. 1. 0. 0. 0. 1. 0. 0.]\n",
      " [0. 1. 1. 1. 1. 1. 1. 2. 0. 0. 0. 1. 0. 0.]\n",
      " [0. 1. 1. 1. 1. 2. 1. 1. 0. 0. 0. 1. 0. 0.]\n",
      " [1. 1. 1. 1. 3. 1. 2. 1. 0. 0. 0. 1. 0. 0.]\n",
      " [1. 1. 1. 2. 1. 3. 1. 1. 0. 0. 0. 3. 0. 0.]\n",
      " [0. 2. 1. 1. 2. 1. 3. 1. 0. 0. 0. 3. 0. 0.]\n",
      " [1. 1. 2. 1. 1. 1. 1. 3. 0. 0. 0. 3. 0. 0.]\n",
      " [0. 0. 0. 0. 0. 0. 0. 0. 0. 0. 0. 0. 0. 0.]\n",
      " [0. 0. 0. 0. 0. 0. 0. 0. 0. 0. 0. 0. 0. 0.]\n",
      " [0. 0. 0. 0. 0. 0. 0. 0. 0. 0. 0. 0. 0. 0.]\n",
      " [1. 1. 1. 1. 1. 3. 3. 3. 0. 0. 0. 6. 0. 0.]\n",
      " [0. 0. 0. 0. 0. 0. 0. 0. 0. 0. 0. 0. 0. 0.]\n",
      " [0. 0. 0. 0. 0. 0. 0. 0. 0. 0. 0. 0. 0. 0.]]\n"
     ]
    }
   ],
   "source": [
    "# Generate desired matrix\n",
    "matrix = G[0]\n",
    "\n",
    "print(\"Original Matrix:\")\n",
    "print(matrix)"
   ]
  },
  {
   "cell_type": "code",
   "execution_count": 108,
   "metadata": {},
   "outputs": [
    {
     "name": "stdout",
     "output_type": "stream",
     "text": [
      "\n",
      "Matrix without Zero Rows and Columns:\n",
      "[[1. 1. 0. 0. 1. 1. 0. 1. 1.]\n",
      " [1. 1. 1. 1. 1. 1. 2. 1. 1.]\n",
      " [0. 1. 1. 1. 1. 1. 1. 2. 1.]\n",
      " [0. 1. 1. 1. 1. 2. 1. 1. 1.]\n",
      " [1. 1. 1. 1. 3. 1. 2. 1. 1.]\n",
      " [1. 1. 1. 2. 1. 3. 1. 1. 3.]\n",
      " [0. 2. 1. 1. 2. 1. 3. 1. 3.]\n",
      " [1. 1. 2. 1. 1. 1. 1. 3. 3.]\n",
      " [1. 1. 1. 1. 1. 3. 3. 3. 6.]]\n",
      "\n",
      "Indices of Removed Rows: [8, 9, 10, 12, 13]\n",
      "Indices of Removed Columns: [8, 9, 10, 12, 13]\n"
     ]
    }
   ],
   "source": [
    "# Generate matrix without zero rows and columns\n",
    "result_matrix, removed_rows, removed_columns, inverse_matrix = inverse_matrix_generator(matrix)\n",
    "\n",
    "print(\"\\nMatrix without Zero Rows and Columns:\")\n",
    "print(result_matrix)\n",
    "\n",
    "print(\"\\nIndices of Removed Rows:\", removed_rows)\n",
    "print(\"Indices of Removed Columns:\", removed_columns)"
   ]
  },
  {
   "cell_type": "code",
   "execution_count": 111,
   "metadata": {},
   "outputs": [
    {
     "name": "stdout",
     "output_type": "stream",
     "text": [
      "Inverse Matrix:\n",
      "[[ 0.29  0.56 -0.31 -0.31  0.    0.1  -0.19  0.1  -0.04]\n",
      " [ 0.56  0.21  0.04  0.04 -0.5   0.02  0.46  0.02 -0.31]\n",
      " [-0.31  0.04 -1.04  0.96  0.   -0.27  0.04  0.73 -0.19]\n",
      " [-0.31  0.04  0.96 -1.04  0.    0.73  0.04 -0.27 -0.19]\n",
      " [-0.   -0.5   0.    0.    0.5  -0.   -0.   -0.   -0.  ]\n",
      " [ 0.1   0.02 -0.27  0.73  0.   -0.13 -0.23 -0.13  0.15]\n",
      " [-0.19  0.46  0.04  0.04 -0.   -0.23 -0.04 -0.23  0.19]\n",
      " [ 0.1   0.02  0.73 -0.27  0.   -0.13 -0.23 -0.13  0.15]\n",
      " [-0.04 -0.31 -0.19 -0.19 -0.    0.15  0.19  0.15  0.04]]\n"
     ]
    }
   ],
   "source": [
    "# Generate the inverse matrix\n",
    "if np.linalg.det(result_matrix) != 0:\n",
    "    print(\"Inverse Matrix:\")\n",
    "    print(inverse_matrix)\n",
    "else:\n",
    "    print(\"The matrix is singular and cannot be inverted.\")"
   ]
  },
  {
   "cell_type": "markdown",
   "metadata": {},
   "source": [
    "Repeat this for the complete dataset, so that we end up with inverse matrices for $G_A$ to $G_F$"
   ]
  },
  {
   "cell_type": "code",
   "execution_count": 120,
   "metadata": {},
   "outputs": [],
   "source": [
    "L_inverse_list = []\n",
    "removed_rows_list = []\n",
    "removed_columns_list = []\n",
    "\n",
    "for matrix in G:\n",
    "    result_matrix, removed_rows, removed_columns, inverse_matrix = inverse_matrix_generator(matrix)\n",
    "    L_inverse_list.append(inverse_matrix)\n",
    "    removed_rows_list.append(removed_rows)\n",
    "    removed_columns_list.append(removed_columns)\n",
    "\n"
   ]
  },
  {
   "cell_type": "markdown",
   "metadata": {},
   "source": [
    "Try to decompress the inverse matrices for later use, since we need to multiple them with the $L_p$ matrix and thus should be of equal dimensions.\n",
    "However, decompressing is not that easy, because the stored indexation of the removed rows and columns is not the same as the place we should return zero rows and columns... <span style=\"color:red\">CONTINUE HERE</span>"
   ]
  },
  {
   "cell_type": "code",
   "execution_count": 164,
   "metadata": {},
   "outputs": [
    {
     "name": "stdout",
     "output_type": "stream",
     "text": [
      "[[ 0.29  0.56 -0.31 -0.31  0.    0.1  -0.19  0.1  -0.04]\n",
      " [ 0.56  0.21  0.04  0.04 -0.5   0.02  0.46  0.02 -0.31]\n",
      " [-0.31  0.04 -1.04  0.96  0.   -0.27  0.04  0.73 -0.19]\n",
      " [-0.31  0.04  0.96 -1.04  0.    0.73  0.04 -0.27 -0.19]\n",
      " [-0.   -0.5   0.    0.    0.5  -0.   -0.   -0.   -0.  ]\n",
      " [ 0.1   0.02 -0.27  0.73  0.   -0.13 -0.23 -0.13  0.15]\n",
      " [-0.19  0.46  0.04  0.04 -0.   -0.23 -0.04 -0.23  0.19]\n",
      " [ 0.1   0.02  0.73 -0.27  0.   -0.13 -0.23 -0.13  0.15]\n",
      " [-0.04 -0.31 -0.19 -0.19 -0.    0.15  0.19  0.15  0.04]]\n",
      "[8, 9, 10, 12, 13]\n",
      "[5, 6, 8, 10, 11, 12]\n"
     ]
    },
    {
     "ename": "ValueError",
     "evalue": "could not broadcast input array from shape (1,10) into shape (1,9)",
     "output_type": "error",
     "traceback": [
      "\u001b[1;31m---------------------------------------------------------------------------\u001b[0m",
      "\u001b[1;31mValueError\u001b[0m                                Traceback (most recent call last)",
      "\u001b[1;32m~\\AppData\\Local\\Temp\\ipykernel_15788\\405583588.py\u001b[0m in \u001b[0;36m<module>\u001b[1;34m\u001b[0m\n\u001b[0;32m     14\u001b[0m \u001b[1;32mfor\u001b[0m \u001b[0mindex\u001b[0m \u001b[1;32min\u001b[0m \u001b[0mremoved_columns_list\u001b[0m\u001b[1;33m:\u001b[0m\u001b[1;33m\u001b[0m\u001b[1;33m\u001b[0m\u001b[0m\n\u001b[0;32m     15\u001b[0m     \u001b[0mprint\u001b[0m\u001b[1;33m(\u001b[0m\u001b[0mindex\u001b[0m\u001b[1;33m)\u001b[0m\u001b[1;33m\u001b[0m\u001b[1;33m\u001b[0m\u001b[0m\n\u001b[1;32m---> 16\u001b[1;33m     \u001b[0mcomplex\u001b[0m \u001b[1;33m=\u001b[0m \u001b[0madd_zero_array\u001b[0m\u001b[1;33m(\u001b[0m\u001b[0mcomplex\u001b[0m\u001b[1;33m,\u001b[0m \u001b[0mindex\u001b[0m\u001b[1;33m,\u001b[0m \u001b[0mcolumn_axis\u001b[0m\u001b[1;33m)\u001b[0m\u001b[1;33m\u001b[0m\u001b[1;33m\u001b[0m\u001b[0m\n\u001b[0m\u001b[0;32m     17\u001b[0m \u001b[1;33m\u001b[0m\u001b[0m\n\u001b[0;32m     18\u001b[0m \u001b[0mprint\u001b[0m\u001b[1;33m(\u001b[0m\u001b[0mcomplex\u001b[0m\u001b[1;33m)\u001b[0m\u001b[1;33m\u001b[0m\u001b[1;33m\u001b[0m\u001b[0m\n",
      "\u001b[1;32m~\\AppData\\Local\\Temp\\ipykernel_15788\\405583588.py\u001b[0m in \u001b[0;36madd_zero_array\u001b[1;34m(original_array, index, axis_choice)\u001b[0m\n\u001b[0;32m      9\u001b[0m \u001b[1;32mdef\u001b[0m \u001b[0madd_zero_array\u001b[0m\u001b[1;33m(\u001b[0m\u001b[0moriginal_array\u001b[0m\u001b[1;33m,\u001b[0m \u001b[0mindex\u001b[0m\u001b[1;33m,\u001b[0m \u001b[0maxis_choice\u001b[0m\u001b[1;33m)\u001b[0m\u001b[1;33m:\u001b[0m\u001b[1;33m\u001b[0m\u001b[1;33m\u001b[0m\u001b[0m\n\u001b[0;32m     10\u001b[0m     \u001b[0mzero_array\u001b[0m \u001b[1;33m=\u001b[0m \u001b[0mnp\u001b[0m\u001b[1;33m.\u001b[0m\u001b[0mzeros\u001b[0m\u001b[1;33m(\u001b[0m\u001b[0moriginal_array\u001b[0m\u001b[1;33m.\u001b[0m\u001b[0mshape\u001b[0m\u001b[1;33m[\u001b[0m\u001b[1;36m0\u001b[0m\u001b[1;33m]\u001b[0m\u001b[1;33m,\u001b[0m \u001b[0mdtype\u001b[0m\u001b[1;33m=\u001b[0m\u001b[0moriginal_array\u001b[0m\u001b[1;33m.\u001b[0m\u001b[0mdtype\u001b[0m\u001b[1;33m)\u001b[0m\u001b[1;33m\u001b[0m\u001b[1;33m\u001b[0m\u001b[0m\n\u001b[1;32m---> 11\u001b[1;33m     \u001b[0minserted_array\u001b[0m \u001b[1;33m=\u001b[0m \u001b[0mnp\u001b[0m\u001b[1;33m.\u001b[0m\u001b[0minsert\u001b[0m\u001b[1;33m(\u001b[0m\u001b[0moriginal_array\u001b[0m\u001b[1;33m,\u001b[0m \u001b[0mcolumn_index\u001b[0m\u001b[1;33m,\u001b[0m \u001b[0mzero_array\u001b[0m\u001b[1;33m,\u001b[0m \u001b[0maxis\u001b[0m\u001b[1;33m=\u001b[0m\u001b[0maxis_choice\u001b[0m\u001b[1;33m)\u001b[0m\u001b[1;33m\u001b[0m\u001b[1;33m\u001b[0m\u001b[0m\n\u001b[0m\u001b[0;32m     12\u001b[0m     \u001b[1;32mreturn\u001b[0m \u001b[0minserted_array\u001b[0m\u001b[1;33m\u001b[0m\u001b[1;33m\u001b[0m\u001b[0m\n\u001b[0;32m     13\u001b[0m \u001b[1;33m\u001b[0m\u001b[0m\n",
      "\u001b[1;32m<__array_function__ internals>\u001b[0m in \u001b[0;36minsert\u001b[1;34m(*args, **kwargs)\u001b[0m\n",
      "\u001b[1;32mc:\\Users\\cyril\\AppData\\Local\\Continuum\\anaconda3\\envs\\TDA_brain\\lib\\site-packages\\numpy\\lib\\function_base.py\u001b[0m in \u001b[0;36minsert\u001b[1;34m(arr, obj, values, axis)\u001b[0m\n\u001b[0;32m   4722\u001b[0m         \u001b[0mnew\u001b[0m\u001b[1;33m[\u001b[0m\u001b[0mtuple\u001b[0m\u001b[1;33m(\u001b[0m\u001b[0mslobj\u001b[0m\u001b[1;33m)\u001b[0m\u001b[1;33m]\u001b[0m \u001b[1;33m=\u001b[0m \u001b[0marr\u001b[0m\u001b[1;33m[\u001b[0m\u001b[0mtuple\u001b[0m\u001b[1;33m(\u001b[0m\u001b[0mslobj\u001b[0m\u001b[1;33m)\u001b[0m\u001b[1;33m]\u001b[0m\u001b[1;33m\u001b[0m\u001b[1;33m\u001b[0m\u001b[0m\n\u001b[0;32m   4723\u001b[0m         \u001b[0mslobj\u001b[0m\u001b[1;33m[\u001b[0m\u001b[0maxis\u001b[0m\u001b[1;33m]\u001b[0m \u001b[1;33m=\u001b[0m \u001b[0mslice\u001b[0m\u001b[1;33m(\u001b[0m\u001b[0mindex\u001b[0m\u001b[1;33m,\u001b[0m \u001b[0mindex\u001b[0m\u001b[1;33m+\u001b[0m\u001b[0mnumnew\u001b[0m\u001b[1;33m)\u001b[0m\u001b[1;33m\u001b[0m\u001b[1;33m\u001b[0m\u001b[0m\n\u001b[1;32m-> 4724\u001b[1;33m         \u001b[0mnew\u001b[0m\u001b[1;33m[\u001b[0m\u001b[0mtuple\u001b[0m\u001b[1;33m(\u001b[0m\u001b[0mslobj\u001b[0m\u001b[1;33m)\u001b[0m\u001b[1;33m]\u001b[0m \u001b[1;33m=\u001b[0m \u001b[0mvalues\u001b[0m\u001b[1;33m\u001b[0m\u001b[1;33m\u001b[0m\u001b[0m\n\u001b[0m\u001b[0;32m   4725\u001b[0m         \u001b[0mslobj\u001b[0m\u001b[1;33m[\u001b[0m\u001b[0maxis\u001b[0m\u001b[1;33m]\u001b[0m \u001b[1;33m=\u001b[0m \u001b[0mslice\u001b[0m\u001b[1;33m(\u001b[0m\u001b[0mindex\u001b[0m\u001b[1;33m+\u001b[0m\u001b[0mnumnew\u001b[0m\u001b[1;33m,\u001b[0m \u001b[1;32mNone\u001b[0m\u001b[1;33m)\u001b[0m\u001b[1;33m\u001b[0m\u001b[1;33m\u001b[0m\u001b[0m\n\u001b[0;32m   4726\u001b[0m         \u001b[0mslobj2\u001b[0m \u001b[1;33m=\u001b[0m \u001b[1;33m[\u001b[0m\u001b[0mslice\u001b[0m\u001b[1;33m(\u001b[0m\u001b[1;32mNone\u001b[0m\u001b[1;33m)\u001b[0m\u001b[1;33m]\u001b[0m \u001b[1;33m*\u001b[0m \u001b[0mndim\u001b[0m\u001b[1;33m\u001b[0m\u001b[1;33m\u001b[0m\u001b[0m\n",
      "\u001b[1;31mValueError\u001b[0m: could not broadcast input array from shape (1,10) into shape (1,9)"
     ]
    }
   ],
   "source": [
    "complex = L_inverse_list[0]\n",
    "print(complex)\n",
    "\n",
    "# axis choice definition\n",
    "column_axis = 0\n",
    "row_axis = 1\n",
    "\n",
    "# Add a zero column at the desired index\n",
    "def add_zero_array(original_array, index, axis_choice):\n",
    "    zero_array = np.zeros(original_array.shape[0], dtype=original_array.dtype)\n",
    "    inserted_array = np.insert(original_array, column_index, zero_array, axis=axis_choice)\n",
    "    return inserted_array\n",
    "\n",
    "for index in removed_columns_list:\n",
    "    print(index)\n",
    "    complex = add_zero_array(complex, index, column_axis)\n",
    "\n",
    "print(complex)\n",
    "\n",
    "inserted_column_array = add_zero_array(complex, 3, column_axis)\n",
    "inserted_row_array = add_zero_array(complex, 4, row_axis)\n",
    "\n",
    "print(\"\\nArray with Zero Column in the Middle:\")\n",
    "print(inserted_column_array)\n",
    "\n",
    "print(\"\\nArray with Zero Row Inserted:\")\n",
    "print(inserted_row_array)\n"
   ]
  }
 ],
 "metadata": {
  "kernelspec": {
   "display_name": "TDA_brain",
   "language": "python",
   "name": "python3"
  },
  "language_info": {
   "codemirror_mode": {
    "name": "ipython",
    "version": 3
   },
   "file_extension": ".py",
   "mimetype": "text/x-python",
   "name": "python",
   "nbconvert_exporter": "python",
   "pygments_lexer": "ipython3",
   "version": "3.7.12"
  }
 },
 "nbformat": 4,
 "nbformat_minor": 2
}
